{
 "cells": [
  {
   "cell_type": "code",
   "execution_count": 42,
   "metadata": {},
   "outputs": [
    {
     "name": "stderr",
     "output_type": "stream",
     "text": [
      "[nltk_data] Downloading package stopwords to\n",
      "[nltk_data]     /Users/guyparsadanov/nltk_data...\n",
      "[nltk_data]   Package stopwords is already up-to-date!\n",
      "[nltk_data] Downloading package wordnet to\n",
      "[nltk_data]     /Users/guyparsadanov/nltk_data...\n",
      "[nltk_data]   Package wordnet is already up-to-date!\n",
      "[nltk_data] Downloading package omw-1.4 to\n",
      "[nltk_data]     /Users/guyparsadanov/nltk_data...\n",
      "[nltk_data]   Package omw-1.4 is already up-to-date!\n"
     ]
    }
   ],
   "source": [
    "import pandas as pd\n",
    "import numpy as np\n",
    "import string\n",
    "import re\n",
    "import nltk\n",
    "\n",
    "from sklearn.model_selection import train_test_split, GridSearchCV\n",
    "from sklearn.feature_extraction.text import TfidfVectorizer\n",
    "from sklearn.svm import SVC\n",
    "from sklearn.metrics import accuracy_score, classification_report, confusion_matrix, ConfusionMatrixDisplay\n",
    "import matplotlib.pyplot as plt\n",
    "\n",
    "# Download necessary NLTK resources (only run once)\n",
    "nltk.download('stopwords')\n",
    "nltk.download('wordnet')\n",
    "nltk.download('omw-1.4')\n",
    "\n",
    "from nltk.corpus import stopwords\n",
    "from nltk.stem import WordNetLemmatizer"
   ]
  },
  {
   "cell_type": "code",
   "execution_count": 43,
   "metadata": {},
   "outputs": [
    {
     "name": "stdout",
     "output_type": "stream",
     "text": [
      "   label                                               text\n",
      "0      0  donald trump sends out embarrassing new year‚s...\n",
      "1      0  drunk bragging trump staffer started russian c...\n",
      "2      0  sheriff david clarke becomes an internet joke ...\n",
      "3      0  trump is so obsessed he even has obama‚s name ...\n",
      "4      0  pope francis just called out donald trump duri...\n"
     ]
    }
   ],
   "source": [
    "# Define the file path and column names\n",
    "file_path = '/Users/guyparsadanov/Downloads/Iron-Hack-Work/W4/project-3-nlp/training_data_lowercase copy.csv'  # Replace with your file path\n",
    "column_names = ['label', 'text']\n",
    "\n",
    "# Load the dataset into a pandas DataFrame\n",
    "df = pd.read_csv(file_path, sep='\\t', header=None, names=column_names)\n",
    "\n",
    "# Convert labels to integers (just in case they aren't)\n",
    "df['label'] = df['label'].astype(int)\n",
    "\n",
    "# Display the first few rows of the dataset\n",
    "print(df.head())"
   ]
  },
  {
   "cell_type": "markdown",
   "metadata": {},
   "source": [
    "Preprocessing"
   ]
  },
  {
   "cell_type": "code",
   "execution_count": 44,
   "metadata": {},
   "outputs": [
    {
     "name": "stdout",
     "output_type": "stream",
     "text": [
      "                                                text  \\\n",
      "0  donald trump sends out embarrassing new year‚s...   \n",
      "1  drunk bragging trump staffer started russian c...   \n",
      "2  sheriff david clarke becomes an internet joke ...   \n",
      "3  trump is so obsessed he even has obama‚s name ...   \n",
      "4  pope francis just called out donald trump duri...   \n",
      "\n",
      "                                          clean_text  \n",
      "0  donald trump sends out embarrassing new year s...  \n",
      "1  drunk bragging trump staffer started russian c...  \n",
      "2  sheriff david clarke becomes an internet joke ...  \n",
      "3  trump is so obsessed even obama s name coded i...  \n",
      "4  pope francis just called out donald trump duri...  \n"
     ]
    }
   ],
   "source": [
    "# Initialize the lemmatizer and stopwords\n",
    "lemmatizer = WordNetLemmatizer()\n",
    "stop_words = set(stopwords.words('spanish'))\n",
    "\n",
    "# Preprocessing function\n",
    "def preprocess_text(text):\n",
    "    # Remove punctuation and numbers\n",
    "    text = re.sub(f\"[{string.punctuation}]\", \" \", text)  # Remove punctuation\n",
    "    text = re.sub(r'\\d+', '', text)  # Remove numbers\n",
    "\n",
    "    # Remove single characters from the start\n",
    "    text = re.sub(r'^[a-zA-Z]\\s+', ' ', text)\n",
    "\n",
    "    # Substitute multiple spaces with a single space\n",
    "    text = re.sub(r'\\s+', ' ', text).strip()\n",
    "\n",
    "    # Remove all special characters\n",
    "    text = re.sub(r'[^a-zA-Z\\s]', ' ', text)  # Keep only letters and spaces\n",
    "    \n",
    "    # Convert to lowercase\n",
    "    text = text.lower()\n",
    "    \n",
    "    # Tokenize and remove stopwords, then lemmatize\n",
    "    tokens = text.split()\n",
    "    tokens = [lemmatizer.lemmatize(word) for word in tokens if word not in stop_words]\n",
    "\n",
    "\n",
    "    \n",
    "    return ' '.join(tokens)\n",
    "\n",
    "# Apply preprocessing to the dataset\n",
    "df['clean_text'] = df['text'].apply(preprocess_text)\n",
    "\n",
    "# Display the cleaned text\n",
    "print(df[['text', 'clean_text']].head())"
   ]
  },
  {
   "cell_type": "markdown",
   "metadata": {},
   "source": [
    " TF-IDF Vectorization with Unigrams and Bigrams"
   ]
  },
  {
   "cell_type": "code",
   "execution_count": 34,
   "metadata": {},
   "outputs": [],
   "source": [
    "# TF-IDF Vectorization with Unigrams and Bigrams\n",
    "tfidf_vectorizer = TfidfVectorizer(ngram_range=(1, 2), max_features=5000)\n",
    "X_tfidf = tfidf_vectorizer.fit_transform(df['clean_text'])\n",
    "\n",
    "# Define features and labels\n",
    "X = X_tfidf\n",
    "y = df['label']\n",
    "\n",
    "# Split the dataset into training and testing sets\n",
    "X_train, X_test, y_train, y_test = train_test_split(X, y, test_size=0.2, random_state=42)"
   ]
  },
  {
   "cell_type": "markdown",
   "metadata": {},
   "source": [
    "Train SVM"
   ]
  },
  {
   "cell_type": "code",
   "execution_count": 35,
   "metadata": {},
   "outputs": [],
   "source": [
    "# Initialize the Support Vector Classifier\n",
    "svm_model = SVC(kernel='linear', C=1.0)\n",
    "\n",
    "# Train the model\n",
    "svm_model.fit(X_train, y_train)\n",
    "\n",
    "# Predict on the test set\n",
    "y_pred_svm = svm_model.predict(X_test)"
   ]
  },
  {
   "cell_type": "code",
   "execution_count": 39,
   "metadata": {},
   "outputs": [
    {
     "name": "stdout",
     "output_type": "stream",
     "text": [
      "Results for SVM Classifier:\n",
      "\n",
      "Accuracy: 0.9460\n",
      "\n",
      "Classification Report:\n",
      "              precision    recall  f1-score   support\n",
      "\n",
      "           0       0.96      0.94      0.95      3529\n",
      "           1       0.94      0.95      0.94      3302\n",
      "\n",
      "    accuracy                           0.95      6831\n",
      "   macro avg       0.95      0.95      0.95      6831\n",
      "weighted avg       0.95      0.95      0.95      6831\n",
      "\n"
     ]
    },
    {
     "data": {
      "image/png": "[encoded data removed]",
      "text/plain": [
       "<Figure size 640x480 with 2 Axes>"
      ]
     },
     "metadata": {},
     "output_type": "display_data"
    }
   ],
   "source": [
    "# Evaluate the model\n",
    "print(\"Results for SVM Classifier:\\n\")\n",
    "print(f\"Accuracy: {accuracy_score(y_test, y_pred_svm):.4f}\")\n",
    "print(\"\\nClassification Report:\")\n",
    "print(classification_report(y_test, y_pred_svm))\n",
    "\n",
    "# Plot confusion matrix\n",
    "disp = ConfusionMatrixDisplay.from_predictions(y_test, y_pred_svm, cmap='Blues')\n",
    "plt.title(\"Confusion Matrix - SVM Classifier\")\n",
    "plt.show()"
   ]
  },
  {
   "cell_type": "markdown",
   "metadata": {},
   "source": [
    "Preadict on real data\n",
    "\n",
    "1. Load data"
   ]
  },
  {
   "cell_type": "code",
   "execution_count": 79,
   "metadata": {},
   "outputs": [
    {
     "name": "stdout",
     "output_type": "stream",
     "text": [
      "  label                                               text\n",
      "0     2  copycat muslim terrorist arrested with assault...\n",
      "1     2  wow! chicago protester caught on camera admits...\n",
      "2     2   germany's fdp look to fill schaeuble's big shoes\n",
      "3     2  mi school sends welcome back packet warning ki...\n",
      "4     2  u.n. seeks 'massive' aid boost amid rohingya '...\n"
     ]
    }
   ],
   "source": [
    "# Define the file path and column names\n",
    "file_path_pred = '/Users/guyparsadanov/Downloads/Iron-Hack-Work/W4/project-3-nlp/testing_data_lowercase_nolabels.csv'  # Replace with your file path\n",
    "column_names_pred = ['label', 'text']\n",
    "\n",
    "# Load the dataset into a pandas DataFrame\n",
    "prediction = pd.read_csv(file_path_pred, sep='\\t', header=None, names=column_names)\n",
    "\n",
    "# Convert labels to integers (just in case they aren't)\n",
    "#df['label'] = df['label'].astype(int)\n",
    "\n",
    "# Display the first few rows of the dataset\n",
    "print(prediction.head())"
   ]
  },
  {
   "cell_type": "markdown",
   "metadata": {},
   "source": [
    "2. Preprocess"
   ]
  },
  {
   "cell_type": "code",
   "execution_count": 80,
   "metadata": {},
   "outputs": [
    {
     "name": "stdout",
     "output_type": "stream",
     "text": [
      "                                                text  \\\n",
      "0  copycat muslim terrorist arrested with assault...   \n",
      "1  wow! chicago protester caught on camera admits...   \n",
      "2   germany's fdp look to fill schaeuble's big shoes   \n",
      "3  mi school sends welcome back packet warning ki...   \n",
      "4  u.n. seeks 'massive' aid boost amid rohingya '...   \n",
      "\n",
      "                                          clean_text  \n",
      "0  copycat muslim terrorist arrested with assault...  \n",
      "1  wow chicago protester caught on camera admits ...  \n",
      "2    germany s fdp look to fill schaeuble s big shoe  \n",
      "3  school sends welcome back packet warning kid a...  \n",
      "4  n seek massive aid boost amid rohingya emergen...  \n"
     ]
    }
   ],
   "source": [
    "prediction['clean_text'] = prediction['text'].apply(preprocess_text)\n",
    "\n",
    "# Display the cleaned text\n",
    "print(prediction[['text', 'clean_text']].head())"
   ]
  },
  {
   "cell_type": "code",
   "execution_count": 83,
   "metadata": {},
   "outputs": [],
   "source": [
    "# Transform the cleaned testing data\n",
    "X_test_real = tfidf_vectorizer.transform(prediction['clean_text'])"
   ]
  },
  {
   "cell_type": "code",
   "execution_count": 82,
   "metadata": {},
   "outputs": [
    {
     "name": "stdout",
     "output_type": "stream",
     "text": [
      "{9984}\n"
     ]
    }
   ],
   "source": [
    "print({len(prediction)})"
   ]
  },
  {
   "cell_type": "code",
   "execution_count": 84,
   "metadata": {},
   "outputs": [
    {
     "name": "stdout",
     "output_type": "stream",
     "text": [
      "[0 0 1 ... 1 0 0]\n"
     ]
    }
   ],
   "source": [
    "# Predict on the real testing data\n",
    "predictions_real = svm_model.predict(X_test_real)\n",
    "\n",
    "# Display predictions\n",
    "print(predictions_real)"
   ]
  },
  {
   "cell_type": "code",
   "execution_count": 85,
   "metadata": {},
   "outputs": [
    {
     "name": "stdout",
     "output_type": "stream",
     "text": [
      "{9984}\n"
     ]
    }
   ],
   "source": [
    "print({len(predictions_real)})"
   ]
  },
  {
   "cell_type": "code",
   "execution_count": 87,
   "metadata": {},
   "outputs": [],
   "source": [
    "# Add predictions to the DataFrame\n",
    "prediction['predictions'] = predictions_real\n",
    "\n",
    "# Save to CSV\n",
    "prediction[['predictions', 'text']].to_csv('predictions.csv', index=False)"
   ]
  }
 ],
 "metadata": {
  "kernelspec": {
   "display_name": "base",
   "language": "python",
   "name": "python3"
  },
  "language_info": {
   "codemirror_mode": {
    "name": "ipython",
    "version": 3
   },
   "file_extension": ".py",
   "mimetype": "text/x-python",
   "name": "python",
   "nbconvert_exporter": "python",
   "pygments_lexer": "ipython3",
   "version": "3.12.7"
  }
 },
 "nbformat": 4,
 "nbformat_minor": 2
}
